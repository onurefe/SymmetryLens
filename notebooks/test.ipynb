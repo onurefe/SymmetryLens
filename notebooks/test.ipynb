{
 "cells": [
  {
   "cell_type": "code",
   "execution_count": null,
   "metadata": {},
   "outputs": [],
   "source": [
    "import os\n",
    "os.environ[\"CUDA_VISIBLE_DEVICES\"] = \"3\"\n",
    "\n",
    "import numpy as np\n",
    "import matplotlib.pyplot as plt\n",
    "from symmetry_lens import *"
   ]
  },
  {
   "cell_type": "code",
   "execution_count": null,
   "metadata": {},
   "outputs": [],
   "source": [
    "MODEL_PATH = \"model_weights/ep10.h5\"\n",
    "NUM_TRAINING_EPOCHS = 10000\n",
    "DATASET_SIZE_IN_BATCHES = 100\n",
    "BATCH_SIZE = 16500\n",
    "OUTPUT_REPRESENTATION = \"dst\"\n",
    "SYNTHETIC_DATASET_FEATURES = [\n",
    "    {\n",
    "        \"type\": \"gaussian\",\n",
    "        \"scale_min\": 0.5,\n",
    "        \"scale_max\": 2.5,\n",
    "        \"amplitude_min\": 0.5,\n",
    "        \"amplitude_max\": 1.5\n",
    "    }\n",
    "]\n",
    "NOISE_STD = 0.05\n",
    "WAVEFORM_TIMESTEPS=33"
   ]
  },
  {
   "cell_type": "code",
   "execution_count": null,
   "metadata": {},
   "outputs": [],
   "source": [
    "# Create a data generator.\n",
    "dg = make_data_generator(dims=1,\n",
    "                         batch_size=BATCH_SIZE,\n",
    "                         features=SYNTHETIC_DATASET_FEATURES,\n",
    "                         waveform_timesteps=WAVEFORM_TIMESTEPS,\n",
    "                         noise_normalized_std=NOISE_STD,\n",
    "                         output_representation=OUTPUT_REPRESENTATION,\n",
    "                         p_exist=0.5,\n",
    "                         num_of_lots=5)"
   ]
  },
  {
   "cell_type": "code",
   "execution_count": null,
   "metadata": {},
   "outputs": [],
   "source": [
    "# Create model and load weights.\n",
    "x_init = np.random.normal(size=(BATCH_SIZE, WAVEFORM_TIMESTEPS, 1))\n",
    "model = create_model(zero_padding_size=WAVEFORM_TIMESTEPS,\n",
    "                     use_zero_padding=True,\n",
    "                     num_uniformity_scales=1)\n",
    "model.compile()\n",
    "model(x_init)\n",
    "model.load_weights(MODEL_PATH)"
   ]
  },
  {
   "cell_type": "code",
   "execution_count": null,
   "metadata": {},
   "outputs": [],
   "source": [
    "# Plot learned symmetry generator and group correlation map. \n",
    "fig, ax = plt.subplots(nrows=1, ncols=2, figsize=(10, 4))\n",
    "\n",
    "im1 = ax[0].imshow(model.symmetry_generator, aspect=\"auto\", cmap=\"viridis\")\n",
    "ax[0].set_title(\"Symmetry Generator\")  # Add title to the first subplot\n",
    "\n",
    "im2 = ax[1].imshow(model.group_convolution_matrix, aspect=\"auto\", cmap=\"viridis\")\n",
    "ax[1].set_title(\"Group Convolution Matrix\")  # Add title to the second subplot\n",
    "\n",
    "fig.colorbar(im1, ax=ax[0], fraction=0.046, pad=0.04)\n",
    "fig.colorbar(im2, ax=ax[1], fraction=0.046, pad=0.04)\n",
    "\n",
    "# Adjust layout for better spacing\n",
    "plt.tight_layout()"
   ]
  },
  {
   "cell_type": "code",
   "execution_count": null,
   "metadata": {},
   "outputs": [],
   "source": [
    "x = dg.sample_batch_of_data()\n",
    "print(\"Batch shape:\", x.shape)  # Expected: (BATCH_SIZE, WAVEFORM_TIMESTEPS, 1)\n",
    "y = model(x)\n",
    "y = y.numpy()"
   ]
  },
  {
   "cell_type": "code",
   "execution_count": null,
   "metadata": {},
   "outputs": [],
   "source": [
    "# Randomly select some samples.\n",
    "random_seed = 42\n",
    "np.random.seed(random_seed)\n",
    "total_samples = x.shape[0]\n",
    "num_pairs = 9\n",
    "selected_indices = np.random.choice(total_samples, size=num_pairs, replace=False)\n",
    "print(\"Selected indices:\", selected_indices)"
   ]
  },
  {
   "cell_type": "code",
   "execution_count": null,
   "metadata": {},
   "outputs": [],
   "source": [
    "# Plot pairs of inputs and outputs.\n",
    "fig, axes = plt.subplots(nrows=3, ncols=3, figsize=(15, 15))  # Adjust figsize as needed\n",
    "axes = axes.flatten()\n",
    "\n",
    "for i, idx in enumerate(selected_indices):\n",
    "    ax = axes[i]\n",
    "    \n",
    "    input_signal = x[idx].squeeze()   # Shape: (33,)\n",
    "    output_signal = y[idx].squeeze()  # Shape: (33,)\n",
    "    \n",
    "    timesteps = np.arange(33)\n",
    "    \n",
    "    ax.plot(timesteps, input_signal, color='red', label='Input')\n",
    "    ax.plot(timesteps, output_signal, color='blue', label='Output')\n",
    "    \n",
    "    ax.set_title(f'Pair {i+1} (Index: {idx})')\n",
    "    ax.set_xlabel('Timestep')\n",
    "    ax.set_ylabel('Signal Value')\n",
    "    ax.legend()\n",
    "    ax.grid(True)\n",
    "\n",
    "plt.tight_layout()\n",
    "\n",
    "# Show the Figure\n",
    "plt.show()\n",
    "plt.clf() "
   ]
  }
 ],
 "metadata": {
  "kernelspec": {
   "display_name": "Python 3",
   "language": "python",
   "name": "python3"
  },
  "language_info": {
   "codemirror_mode": {
    "name": "ipython",
    "version": 3
   },
   "file_extension": ".py",
   "mimetype": "text/x-python",
   "name": "python",
   "nbconvert_exporter": "python",
   "pygments_lexer": "ipython3",
   "version": "3.10.0"
  }
 },
 "nbformat": 4,
 "nbformat_minor": 2
}
