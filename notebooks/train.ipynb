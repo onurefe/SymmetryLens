{
 "cells": [
  {
   "cell_type": "code",
   "execution_count": null,
   "metadata": {},
   "outputs": [],
   "source": [
    "from os import makedirs\n",
    "from symmetry_lens import *"
   ]
  },
  {
   "cell_type": "code",
   "execution_count": null,
   "metadata": {},
   "outputs": [],
   "source": [
    "\"\"\"\n",
    "Tune this parameters according to your experiment.\n",
    "\"\"\"\n",
    "MODEL_SAVING_DIR = \"model_weights\"\n",
    "NUM_TRAINING_EPOCHS = 10000\n",
    "DATASET_SIZE_IN_BATCHES = 100\n",
    "BATCH_SIZE = 16500\n",
    "OUTPUT_REPRESENTATION = \"dst\"\n",
    "SYNTHETIC_DATASET_FEATURES = [\n",
    "    {\n",
    "        \"type\": \"gaussian\",\n",
    "        \"scale_min\": 0.5,\n",
    "        \"scale_max\": 2.5,\n",
    "        \"amplitude_min\": 0.5,\n",
    "        \"amplitude_max\": 1.5\n",
    "    }\n",
    "]\n",
    "NOISE_STD = 0.05\n",
    "WAVEFORM_TIMESTEPS=33"
   ]
  },
  {
   "cell_type": "code",
   "execution_count": null,
   "metadata": {},
   "outputs": [],
   "source": [
    "# Create the model to train.\n",
    "model = create_model()"
   ]
  },
  {
   "cell_type": "code",
   "execution_count": null,
   "metadata": {},
   "outputs": [],
   "source": [
    "# Creating a dataset. You may plug your own dataset here. \n",
    "dataset = make_dataset(\n",
    "    output_representation= OUTPUT_REPRESENTATION,\n",
    "    batch_size = BATCH_SIZE,\n",
    "    num_batches = DATASET_SIZE_IN_BATCHES,\n",
    "    features = SYNTHETIC_DATASET_FEATURES,\n",
    "    noise_normalized_std = NOISE_STD,\n",
    "    waveform_timesteps = WAVEFORM_TIMESTEPS\n",
    ")"
   ]
  },
  {
   "cell_type": "code",
   "execution_count": null,
   "metadata": {},
   "outputs": [],
   "source": [
    "# Train model.\n",
    "train(\n",
    "    model,\n",
    "    batch_size=BATCH_SIZE,\n",
    "    dataset=dataset,\n",
    "    saving_dir=MODEL_SAVING_DIR,\n",
    "    epochs=NUM_TRAINING_EPOCHS\n",
    ")"
   ]
  },
  {
   "cell_type": "code",
   "execution_count": null,
   "metadata": {},
   "outputs": [],
   "source": []
  }
 ],
 "metadata": {
  "kernelspec": {
   "display_name": "Python 3",
   "language": "python",
   "name": "python3"
  },
  "language_info": {
   "codemirror_mode": {
    "name": "ipython",
    "version": 3
   },
   "file_extension": ".py",
   "mimetype": "text/x-python",
   "name": "python",
   "nbconvert_exporter": "python",
   "pygments_lexer": "ipython3",
   "version": "3.10.13"
  }
 },
 "nbformat": 4,
 "nbformat_minor": 2
}
