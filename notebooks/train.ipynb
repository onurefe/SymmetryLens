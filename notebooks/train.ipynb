{
 "cells": [
  {
   "cell_type": "code",
   "execution_count": null,
   "metadata": {},
   "outputs": [],
   "source": [
    "import os\n",
    "os.environ[\"CUDA_VISIBLE_DEVICES\"] = \"2\"\n",
    "from symmetry_lens import *\n"
   ]
  },
  {
   "cell_type": "code",
   "execution_count": null,
   "metadata": {},
   "outputs": [],
   "source": [
    "\"\"\"\n",
    "Tune this parameters according to your experiment.\n",
    "\"\"\"\n",
    "MODEL_SAVING_DIR = \"model_weights\"\n",
    "NUM_TRAINING_EPOCHS = 10000\n",
    "BATCH_SIZE = 16500\n",
    "OUTPUT_REPRESENTATION = \"dst\"\n",
    "SYNTHETIC_DATASET_FEATURES = [\n",
    "    {\n",
    "        \"type\": \"gaussian\",\n",
    "        \"scale_min\": 0.5,\n",
    "        \"scale_max\": 2.5,\n",
    "        \"amplitude_min\": 0.5,\n",
    "        \"amplitude_max\": 1.5\n",
    "    }\n",
    "]\n",
    "NOISE_STD = 0.05\n",
    "WAVEFORM_TIMESTEPS=33"
   ]
  },
  {
   "cell_type": "code",
   "execution_count": null,
   "metadata": {},
   "outputs": [],
   "source": [
    "# Create the model to train.\n",
    "model = create_model(zero_padding_size=WAVEFORM_TIMESTEPS,\n",
    "                     use_zero_padding=True,\n",
    "                     num_uniformity_scales=1)"
   ]
  },
  {
   "cell_type": "code",
   "execution_count": null,
   "metadata": {},
   "outputs": [],
   "source": [
    "# Creating a data generator. You may plug your own data generator here. \n",
    "dg = make_data_generator(batch_size=BATCH_SIZE,\n",
    "                         features=SYNTHETIC_DATASET_FEATURES,\n",
    "                         waveform_timesteps=WAVEFORM_TIMESTEPS,\n",
    "                         noise_normalized_std=NOISE_STD,\n",
    "                         output_representation=OUTPUT_REPRESENTATION)"
   ]
  },
  {
   "cell_type": "code",
   "execution_count": null,
   "metadata": {},
   "outputs": [],
   "source": [
    "# Train model.\n",
    "train(\n",
    "    model,\n",
    "    data_generator=dg,\n",
    "    saving_dir=MODEL_SAVING_DIR,\n",
    "    epochs=NUM_TRAINING_EPOCHS\n",
    ")"
   ]
  },
  {
   "cell_type": "code",
   "execution_count": null,
   "metadata": {},
   "outputs": [],
   "source": []
  }
 ],
 "metadata": {
  "kernelspec": {
   "display_name": "Python 3",
   "language": "python",
   "name": "python3"
  },
  "language_info": {
   "codemirror_mode": {
    "name": "ipython",
    "version": 3
   },
   "file_extension": ".py",
   "mimetype": "text/x-python",
   "name": "python",
   "nbconvert_exporter": "python",
   "pygments_lexer": "ipython3",
   "version": "3.10.0"
  }
 },
 "nbformat": 4,
 "nbformat_minor": 2
}
