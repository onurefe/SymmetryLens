{
 "cells": [
  {
   "cell_type": "code",
   "execution_count": null,
   "metadata": {},
   "outputs": [],
   "source": [
    "import os\n",
    "os.environ[\"CUDA_VISIBLE_DEVICES\"] = \"3\"\n",
    "\n",
    "import numpy as np\n",
    "import matplotlib.pyplot as plt\n",
    "from symmetry_lens import *"
   ]
  },
  {
   "cell_type": "code",
   "execution_count": null,
   "metadata": {},
   "outputs": [],
   "source": [
    "MODEL_PATH = \"model_weights/ep8.h5\"\n",
    "NUM_TRAINING_EPOCHS = 10000\n",
    "BATCH_SIZE = 17150\n",
    "OUTPUT_REPRESENTATION = \"natural\"\n",
    "SYNTHETIC_DATASET_FEATURES = [\n",
    "    {\n",
    "        \"type\": \"gaussian\",\n",
    "        \"scale_x_min\": 0.5,\n",
    "        \"scale_x_max\": 1.5,\n",
    "        \"scale_y_min\": 0.5,\n",
    "        \"scale_y_max\": 1.5,\n",
    "        \"amplitude_min\": 0.5,\n",
    "        \"amplitude_max\": 1.5\n",
    "    }\n",
    "]\n",
    "LATENT_X_DIMS = 7\n",
    "LATENT_Y_DIMS = 7\n",
    "ZERO_PADDING_SIZE = LATENT_X_DIMS * LATENT_Y_DIMS\n",
    "NOISE_STD = 0.05\n",
    "WAVEFORM_TIMESTEPS=33"
   ]
  },
  {
   "cell_type": "code",
   "execution_count": null,
   "metadata": {},
   "outputs": [],
   "source": [
    "# Creating a data generator. You may plug your own data generator here. \n",
    "dg = make_data_generator(dims=2,\n",
    "                         batch_size=BATCH_SIZE,\n",
    "                         features=SYNTHETIC_DATASET_FEATURES,\n",
    "                         latent_x_dims=LATENT_X_DIMS,\n",
    "                         latent_y_dims=LATENT_Y_DIMS,\n",
    "                         output_representation=OUTPUT_REPRESENTATION)"
   ]
  },
  {
   "cell_type": "code",
   "execution_count": null,
   "metadata": {},
   "outputs": [],
   "source": [
    "# Create model and load weights.\n",
    "x_init = np.random.normal(size=(BATCH_SIZE, LATENT_X_DIMS * LATENT_Y_DIMS, 1))\n",
    "model = create_model(dims=2,\n",
    "                     zero_padding_size=ZERO_PADDING_SIZE,\n",
    "                     use_zero_padding=True,\n",
    "                     n_x_size=LATENT_X_DIMS,\n",
    "                     n_y_size=LATENT_Y_DIMS)\n",
    "model.compile()\n",
    "model(x_init)\n",
    "model.load_weights(MODEL_PATH)"
   ]
  },
  {
   "cell_type": "code",
   "execution_count": null,
   "metadata": {},
   "outputs": [],
   "source": [
    "# Plot learned symmetry generator and group correlation map. \n",
    "fig, ax = plt.subplots(nrows=1, ncols=2, figsize=(10, 4))\n",
    "\n",
    "im1 = ax[0].imshow(model.x_symmetry_generator, aspect=\"auto\", cmap=\"viridis\")\n",
    "ax[0].set_title(\"Symmetry Generator X\")  # Add title to the first subplot\n",
    "\n",
    "im2 = ax[1].imshow(model.y_symmetry_generator, aspect=\"auto\", cmap=\"viridis\")\n",
    "ax[1].set_title(\"Symmetry Generator Y\")  # Add title to the second subplot\n",
    "\n",
    "fig.colorbar(im1, ax=ax[0], fraction=0.046, pad=0.04)\n",
    "fig.colorbar(im2, ax=ax[1], fraction=0.046, pad=0.04)\n",
    "\n",
    "# Adjust layout for better spacing\n",
    "plt.tight_layout()"
   ]
  },
  {
   "cell_type": "code",
   "execution_count": null,
   "metadata": {},
   "outputs": [],
   "source": [
    "x = dg.sample_batch_of_data()\n",
    "print(\"Batch shape:\", x.shape)  # Expected: (BATCH_SIZE, WAVEFORM_TIMESTEPS, 1)\n",
    "y = model(x)\n",
    "y = y.numpy()"
   ]
  },
  {
   "cell_type": "code",
   "execution_count": null,
   "metadata": {},
   "outputs": [],
   "source": [
    "# Randomly select some samples.\n",
    "random_seed = 42\n",
    "np.random.seed(random_seed)\n",
    "total_samples = x.shape[0]\n",
    "num_pairs = 9\n",
    "selected_indices = np.random.choice(total_samples, size=num_pairs, replace=False)\n",
    "print(\"Selected indices:\", selected_indices)"
   ]
  },
  {
   "cell_type": "code",
   "execution_count": null,
   "metadata": {},
   "outputs": [],
   "source": [
    "# Plot pairs of inputs and outputs.\n",
    "# Number of samples to plot\n",
    "num_samples = len(selected_indices)\n",
    "\n",
    "# Create subplots: two columns (input and output) and as many rows as samples\n",
    "fig, axes = plt.subplots(nrows=num_samples, ncols=2, figsize=(12, 5 * num_samples))\n",
    "\n",
    "# Ensure axes is a 2D array even if there's only one sample\n",
    "if num_samples == 1:\n",
    "    axes = np.array([axes])\n",
    "\n",
    "for i, idx in enumerate(selected_indices):\n",
    "    # Extract input vector and output image\n",
    "    input_signal = x[idx].squeeze()       # Shape: (N_X_SIZE * N_Y_SIZE,)\n",
    "    output_image = y[idx].squeeze()       # Shape: (N_X_SIZE, N_Y_SIZE)\n",
    "    \n",
    "    # Plot input as a line plot\n",
    "    input_ax = axes[i, 0]\n",
    "    timesteps = np.arange(len(input_signal))\n",
    "    input_ax.plot(timesteps, input_signal, color='red')\n",
    "    input_ax.set_title(f'Input Signal (Sample index: {idx})')\n",
    "    input_ax.set_xlabel('Component')\n",
    "    input_ax.set_ylabel('Signal Value')\n",
    "    input_ax.grid(True)\n",
    "    \n",
    "    # Plot output as a heatmap\n",
    "    output_ax = axes[i, 1]\n",
    "    c = output_ax.imshow(output_image, cmap='viridis', aspect='auto')\n",
    "    output_ax.set_title(f'Output Heatmap (Sample index: {idx})')\n",
    "    output_ax.set_xlabel('X axis')\n",
    "    output_ax.set_ylabel('Y axis')\n",
    "    fig.colorbar(c, ax=output_ax)\n",
    "\n",
    "plt.tight_layout()\n",
    "plt.show()\n",
    "plt.clf()"
   ]
  }
 ],
 "metadata": {
  "kernelspec": {
   "display_name": "Python 3",
   "language": "python",
   "name": "python3"
  },
  "language_info": {
   "codemirror_mode": {
    "name": "ipython",
    "version": 3
   },
   "file_extension": ".py",
   "mimetype": "text/x-python",
   "name": "python",
   "nbconvert_exporter": "python",
   "pygments_lexer": "ipython3",
   "version": "3.10.0"
  }
 },
 "nbformat": 4,
 "nbformat_minor": 2
}
