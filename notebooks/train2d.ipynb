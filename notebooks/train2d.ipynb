{
 "cells": [
  {
   "cell_type": "code",
   "execution_count": 6,
   "metadata": {},
   "outputs": [],
   "source": [
    "import os\n",
    "os.environ[\"CUDA_VISIBLE_DEVICES\"] = \"2\"\n",
    "from symmetry_lens import *\n"
   ]
  },
  {
   "cell_type": "code",
   "execution_count": 7,
   "metadata": {},
   "outputs": [],
   "source": [
    "\"\"\"\n",
    "Tune this parameters according to your experiment.\n",
    "\"\"\"\n",
    "MODEL_SAVING_DIR = \"model_weights\"\n",
    "NUM_TRAINING_EPOCHS = 10000\n",
    "BATCH_SIZE = 17150\n",
    "OUTPUT_REPRESENTATION = \"natural\"\n",
    "SYNTHETIC_DATASET_FEATURES = [\n",
    "    {\n",
    "        \"type\": \"gaussian\",\n",
    "        \"scale_x_min\": 0.5,\n",
    "        \"scale_x_max\": 1.5,\n",
    "        \"scale_y_min\": 0.5,\n",
    "        \"scale_y_max\": 1.5,\n",
    "        \"amplitude_min\": 0.5,\n",
    "        \"amplitude_max\": 1.5\n",
    "    }\n",
    "]\n",
    "LATENT_X_DIMS = 7\n",
    "LATENT_Y_DIMS = 7\n",
    "ZERO_PADDING_SIZE = LATENT_X_DIMS * LATENT_Y_DIMS\n",
    "NOISE_STD = 0.05\n",
    "WAVEFORM_TIMESTEPS=33"
   ]
  },
  {
   "cell_type": "code",
   "execution_count": 8,
   "metadata": {},
   "outputs": [],
   "source": [
    "# Create the model to train.\n",
    "model = create_model(dims=2,\n",
    "                     zero_padding_size=ZERO_PADDING_SIZE,\n",
    "                     use_zero_padding=True,\n",
    "                     n_x_size=LATENT_X_DIMS,\n",
    "                     n_y_size=LATENT_Y_DIMS)"
   ]
  },
  {
   "cell_type": "code",
   "execution_count": 9,
   "metadata": {},
   "outputs": [],
   "source": [
    "# Creating a data generator. You may plug your own data generator here. \n",
    "dg = make_data_generator(dims=2,\n",
    "                         batch_size=BATCH_SIZE,\n",
    "                         features=SYNTHETIC_DATASET_FEATURES,\n",
    "                         latent_x_dims=LATENT_X_DIMS,\n",
    "                         latent_y_dims=LATENT_Y_DIMS,\n",
    "                         output_representation=OUTPUT_REPRESENTATION)"
   ]
  },
  {
   "cell_type": "code",
   "execution_count": 10,
   "metadata": {},
   "outputs": [
    {
     "name": "stderr",
     "output_type": "stream",
     "text": [
      "2024-11-14 17:22:49.415007: I tensorflow/tsl/platform/default/subprocess.cc:304] Start cannot spawn child process: No such file or directory\n",
      "2024-11-14 17:22:51.953281: I tensorflow/core/util/cuda_solvers.cc:179] Creating GpuSolver handles for stream 0x55cad09ed730\n"
     ]
    },
    {
     "name": "stdout",
     "output_type": "stream",
     "text": [
      "Model: \"equivariant_adapter\"\n",
      "_________________________________________________________________\n",
      " Layer (type)                Output Shape              Param #   \n",
      "=================================================================\n",
      " group_convolution_layer (G  multiple                  601427    \n",
      " roupConvolutionLayer)                                           \n",
      "                                                                 \n",
      "=================================================================\n",
      "Total params: 601427 (2.29 MB)\n",
      "Trainable params: 601426 (2.29 MB)\n",
      "Non-trainable params: 1 (4.00 Byte)\n",
      "_________________________________________________________________\n",
      "\n",
      "Start of epoch 0\n"
     ]
    },
    {
     "name": "stderr",
     "output_type": "stream",
     "text": [
      "2024-11-14 17:23:04.540657: I tensorflow/compiler/xla/service/service.cc:168] XLA service 0x7f47581e0790 initialized for platform CUDA (this does not guarantee that XLA will be used). Devices:\n",
      "2024-11-14 17:23:04.540683: I tensorflow/compiler/xla/service/service.cc:176]   StreamExecutor device (0): NVIDIA GeForce RTX 3090, Compute Capability 8.6\n",
      "2024-11-14 17:23:04.544602: I tensorflow/compiler/mlir/tensorflow/utils/dump_mlir_util.cc:269] disabling MLIR crash reproducer, set env var `MLIR_CRASH_REPRODUCER_DIRECTORY` to enable.\n",
      "2024-11-14 17:23:04.696618: I tensorflow/compiler/xla/stream_executor/cuda/cuda_dnn.cc:442] Loaded cuDNN version 8700\n",
      "2024-11-14 17:23:04.842818: I ./tensorflow/compiler/jit/device_compiler.h:186] Compiled cluster using XLA!  This line is logged at most once for the lifetime of the process.\n"
     ]
    },
    {
     "name": "stdout",
     "output_type": "stream",
     "text": [
      "Epoch: 0 Step: 0, Normalized time:0.00, Loss:-4.26, alignment:-1.00, uniformity:0.03, h_marginal:1.56, h_joint:-2.65, p_estimator:1.56, p_cond_estimator:1.29\n",
      "Epoch: 0 Step: 20, Normalized time:0.00, Loss:-4.37, alignment:-1.00, uniformity:0.01, h_marginal:1.55, h_joint:-2.76, p_estimator:1.55, p_cond_estimator:1.08\n",
      "Epoch: 0 Step: 40, Normalized time:0.00, Loss:-4.11, alignment:-1.00, uniformity:0.01, h_marginal:1.63, h_joint:-2.96, p_estimator:1.63, p_cond_estimator:0.84\n",
      "Epoch: 0 Step: 60, Normalized time:0.00, Loss:-4.79, alignment:-1.00, uniformity:0.04, h_marginal:1.57, h_joint:-3.00, p_estimator:1.57, p_cond_estimator:0.75\n",
      "Epoch: 0 Step: 80, Normalized time:0.00, Loss:-4.54, alignment:-1.00, uniformity:0.03, h_marginal:1.56, h_joint:-2.94, p_estimator:1.56, p_cond_estimator:0.36\n",
      "\n",
      "Start of epoch 1\n",
      "Epoch: 1 Step: 0, Normalized time:0.00, Loss:-4.90, alignment:-1.00, uniformity:0.03, h_marginal:1.54, h_joint:-2.94, p_estimator:1.54, p_cond_estimator:0.38\n",
      "Epoch: 1 Step: 20, Normalized time:0.00, Loss:-4.46, alignment:-1.00, uniformity:0.03, h_marginal:1.48, h_joint:-2.73, p_estimator:1.48, p_cond_estimator:0.12\n",
      "Epoch: 1 Step: 40, Normalized time:0.00, Loss:-4.96, alignment:-1.00, uniformity:0.04, h_marginal:1.56, h_joint:-3.03, p_estimator:1.56, p_cond_estimator:0.39\n",
      "Epoch: 1 Step: 60, Normalized time:0.00, Loss:-4.81, alignment:-1.00, uniformity:0.03, h_marginal:1.56, h_joint:-3.06, p_estimator:1.56, p_cond_estimator:0.58\n",
      "Epoch: 1 Step: 80, Normalized time:0.00, Loss:-5.03, alignment:-1.00, uniformity:0.04, h_marginal:1.64, h_joint:-3.20, p_estimator:1.64, p_cond_estimator:0.56\n",
      "\n",
      "Start of epoch 2\n",
      "Epoch: 2 Step: 0, Normalized time:0.00, Loss:-4.47, alignment:-1.00, uniformity:0.04, h_marginal:1.76, h_joint:-3.39, p_estimator:1.76, p_cond_estimator:1.01\n",
      "Epoch: 2 Step: 20, Normalized time:0.00, Loss:-4.72, alignment:-1.00, uniformity:0.03, h_marginal:1.53, h_joint:-3.03, p_estimator:1.53, p_cond_estimator:0.54\n",
      "Epoch: 2 Step: 40, Normalized time:0.00, Loss:-4.97, alignment:-1.00, uniformity:0.04, h_marginal:1.55, h_joint:-3.10, p_estimator:1.55, p_cond_estimator:0.72\n",
      "Epoch: 2 Step: 60, Normalized time:0.00, Loss:-4.96, alignment:-1.00, uniformity:0.03, h_marginal:1.54, h_joint:-3.06, p_estimator:1.54, p_cond_estimator:0.32\n",
      "Epoch: 2 Step: 80, Normalized time:0.00, Loss:-4.60, alignment:-1.00, uniformity:0.04, h_marginal:1.50, h_joint:-3.01, p_estimator:1.50, p_cond_estimator:0.49\n",
      "\n",
      "Start of epoch 3\n",
      "Epoch: 3 Step: 0, Normalized time:0.00, Loss:-4.83, alignment:-1.00, uniformity:0.02, h_marginal:1.49, h_joint:-2.98, p_estimator:1.49, p_cond_estimator:0.49\n",
      "Epoch: 3 Step: 20, Normalized time:0.00, Loss:-4.61, alignment:-1.00, uniformity:0.02, h_marginal:1.51, h_joint:-2.97, p_estimator:1.51, p_cond_estimator:0.06\n",
      "Epoch: 3 Step: 40, Normalized time:0.00, Loss:-4.76, alignment:-1.00, uniformity:0.03, h_marginal:1.49, h_joint:-3.02, p_estimator:1.49, p_cond_estimator:0.35\n",
      "Epoch: 3 Step: 60, Normalized time:0.00, Loss:-4.80, alignment:-1.00, uniformity:0.03, h_marginal:1.49, h_joint:-3.03, p_estimator:1.49, p_cond_estimator:0.58\n",
      "Epoch: 3 Step: 80, Normalized time:0.00, Loss:-4.54, alignment:-1.00, uniformity:0.03, h_marginal:1.50, h_joint:-3.05, p_estimator:1.50, p_cond_estimator:0.50\n",
      "\n",
      "Start of epoch 4\n",
      "Epoch: 4 Step: 0, Normalized time:0.00, Loss:-4.82, alignment:-1.00, uniformity:0.03, h_marginal:1.45, h_joint:-2.96, p_estimator:1.45, p_cond_estimator:0.44\n",
      "Epoch: 4 Step: 20, Normalized time:0.00, Loss:-4.84, alignment:-1.00, uniformity:0.03, h_marginal:1.58, h_joint:-3.20, p_estimator:1.58, p_cond_estimator:0.72\n",
      "Epoch: 4 Step: 40, Normalized time:0.00, Loss:-4.75, alignment:-1.00, uniformity:0.04, h_marginal:1.49, h_joint:-3.05, p_estimator:1.49, p_cond_estimator:0.79\n",
      "Epoch: 4 Step: 60, Normalized time:0.00, Loss:-4.86, alignment:-1.00, uniformity:0.02, h_marginal:1.46, h_joint:-2.96, p_estimator:1.46, p_cond_estimator:0.18\n",
      "Epoch: 4 Step: 80, Normalized time:0.00, Loss:-4.51, alignment:-1.00, uniformity:0.02, h_marginal:1.41, h_joint:-2.87, p_estimator:1.41, p_cond_estimator:0.14\n",
      "\n",
      "Start of epoch 5\n",
      "Epoch: 5 Step: 0, Normalized time:0.00, Loss:-4.85, alignment:-1.00, uniformity:0.03, h_marginal:1.48, h_joint:-3.04, p_estimator:1.48, p_cond_estimator:0.32\n",
      "Epoch: 5 Step: 20, Normalized time:0.00, Loss:-4.64, alignment:-1.00, uniformity:0.02, h_marginal:1.38, h_joint:-2.88, p_estimator:1.38, p_cond_estimator:0.27\n",
      "Epoch: 5 Step: 40, Normalized time:0.00, Loss:-5.02, alignment:-1.00, uniformity:0.03, h_marginal:1.43, h_joint:-2.98, p_estimator:1.43, p_cond_estimator:0.66\n",
      "Epoch: 5 Step: 60, Normalized time:0.00, Loss:-4.86, alignment:-1.00, uniformity:0.02, h_marginal:1.33, h_joint:-2.79, p_estimator:1.33, p_cond_estimator:0.29\n",
      "Epoch: 5 Step: 80, Normalized time:0.00, Loss:-4.71, alignment:-1.00, uniformity:0.03, h_marginal:1.46, h_joint:-3.05, p_estimator:1.46, p_cond_estimator:0.52\n",
      "\n",
      "Start of epoch 6\n",
      "Epoch: 6 Step: 0, Normalized time:0.00, Loss:-4.72, alignment:-1.00, uniformity:0.02, h_marginal:1.50, h_joint:-3.11, p_estimator:1.50, p_cond_estimator:0.48\n",
      "Epoch: 6 Step: 20, Normalized time:0.00, Loss:-4.69, alignment:-1.00, uniformity:0.02, h_marginal:1.43, h_joint:-3.00, p_estimator:1.43, p_cond_estimator:0.59\n",
      "Epoch: 6 Step: 40, Normalized time:0.00, Loss:-4.84, alignment:-1.00, uniformity:0.03, h_marginal:1.54, h_joint:-3.16, p_estimator:1.54, p_cond_estimator:0.51\n",
      "Epoch: 6 Step: 60, Normalized time:0.00, Loss:-4.64, alignment:-1.00, uniformity:0.03, h_marginal:1.40, h_joint:-2.98, p_estimator:1.40, p_cond_estimator:0.35\n",
      "Epoch: 6 Step: 80, Normalized time:0.00, Loss:-4.62, alignment:-1.00, uniformity:0.02, h_marginal:1.44, h_joint:-3.01, p_estimator:1.44, p_cond_estimator:0.20\n",
      "\n",
      "Start of epoch 7\n",
      "Epoch: 7 Step: 0, Normalized time:0.00, Loss:-4.78, alignment:-1.00, uniformity:0.03, h_marginal:1.51, h_joint:-3.14, p_estimator:1.51, p_cond_estimator:0.75\n",
      "Epoch: 7 Step: 20, Normalized time:0.00, Loss:-5.03, alignment:-1.00, uniformity:0.03, h_marginal:1.40, h_joint:-2.99, p_estimator:1.40, p_cond_estimator:0.42\n",
      "Epoch: 7 Step: 40, Normalized time:0.00, Loss:-4.82, alignment:-1.00, uniformity:0.03, h_marginal:1.44, h_joint:-3.05, p_estimator:1.44, p_cond_estimator:0.49\n",
      "Epoch: 7 Step: 60, Normalized time:0.00, Loss:-4.94, alignment:-1.00, uniformity:0.04, h_marginal:1.50, h_joint:-3.12, p_estimator:1.50, p_cond_estimator:0.60\n",
      "Epoch: 7 Step: 80, Normalized time:0.00, Loss:-4.90, alignment:-1.00, uniformity:0.03, h_marginal:1.30, h_joint:-2.83, p_estimator:1.30, p_cond_estimator:0.41\n",
      "\n",
      "Start of epoch 8\n",
      "Epoch: 8 Step: 0, Normalized time:0.00, Loss:-4.87, alignment:-1.00, uniformity:0.04, h_marginal:1.60, h_joint:-3.21, p_estimator:1.60, p_cond_estimator:1.09\n",
      "Epoch: 8 Step: 20, Normalized time:0.00, Loss:-4.89, alignment:-1.00, uniformity:0.02, h_marginal:1.31, h_joint:-2.86, p_estimator:1.31, p_cond_estimator:0.29\n",
      "Epoch: 8 Step: 40, Normalized time:0.00, Loss:-4.89, alignment:-1.00, uniformity:0.03, h_marginal:1.33, h_joint:-2.91, p_estimator:1.33, p_cond_estimator:0.40\n",
      "Epoch: 8 Step: 60, Normalized time:0.00, Loss:-5.07, alignment:-1.00, uniformity:0.03, h_marginal:1.38, h_joint:-2.99, p_estimator:1.38, p_cond_estimator:0.50\n",
      "Epoch: 8 Step: 80, Normalized time:0.00, Loss:-4.87, alignment:-1.00, uniformity:0.04, h_marginal:1.75, h_joint:-3.37, p_estimator:1.75, p_cond_estimator:1.07\n",
      "\n",
      "Start of epoch 9\n",
      "Epoch: 9 Step: 0, Normalized time:0.00, Loss:-4.96, alignment:-1.00, uniformity:0.03, h_marginal:1.34, h_joint:-2.92, p_estimator:1.34, p_cond_estimator:0.39\n",
      "Epoch: 9 Step: 20, Normalized time:0.00, Loss:-4.96, alignment:-1.00, uniformity:0.04, h_marginal:1.72, h_joint:-3.31, p_estimator:1.72, p_cond_estimator:1.13\n",
      "Epoch: 9 Step: 40, Normalized time:0.00, Loss:-5.03, alignment:-1.00, uniformity:0.04, h_marginal:1.72, h_joint:-3.33, p_estimator:1.72, p_cond_estimator:0.96\n",
      "Epoch: 9 Step: 60, Normalized time:0.00, Loss:-4.90, alignment:-1.00, uniformity:0.04, h_marginal:1.71, h_joint:-3.30, p_estimator:1.71, p_cond_estimator:1.21\n",
      "Epoch: 9 Step: 80, Normalized time:0.00, Loss:-4.85, alignment:-1.00, uniformity:0.04, h_marginal:1.74, h_joint:-3.38, p_estimator:1.74, p_cond_estimator:0.95\n"
     ]
    }
   ],
   "source": [
    "# Train model.\n",
    "train(\n",
    "    model,\n",
    "    data_generator=dg,\n",
    "    saving_dir=MODEL_SAVING_DIR,\n",
    "    epochs=NUM_TRAINING_EPOCHS\n",
    ")"
   ]
  },
  {
   "cell_type": "code",
   "execution_count": null,
   "metadata": {},
   "outputs": [],
   "source": []
  }
 ],
 "metadata": {
  "kernelspec": {
   "display_name": "Python 3",
   "language": "python",
   "name": "python3"
  },
  "language_info": {
   "codemirror_mode": {
    "name": "ipython",
    "version": 3
   },
   "file_extension": ".py",
   "mimetype": "text/x-python",
   "name": "python",
   "nbconvert_exporter": "python",
   "pygments_lexer": "ipython3",
   "version": "3.10.0"
  }
 },
 "nbformat": 4,
 "nbformat_minor": 2
}
