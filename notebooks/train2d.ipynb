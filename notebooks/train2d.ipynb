{
 "cells": [
  {
   "cell_type": "code",
   "execution_count": null,
   "metadata": {},
   "outputs": [],
   "source": [
    "import os\n",
    "os.environ[\"CUDA_VISIBLE_DEVICES\"] = \"2\"\n",
    "from symmetry_lens import *\n"
   ]
  },
  {
   "cell_type": "code",
   "execution_count": null,
   "metadata": {},
   "outputs": [],
   "source": [
    "\"\"\"\n",
    "Tune this parameters according to your experiment.\n",
    "\"\"\"\n",
    "MODEL_SAVING_DIR = \"model_weights\"\n",
    "NUM_TRAINING_EPOCHS = 10000\n",
    "BATCH_SIZE = 17150\n",
    "OUTPUT_REPRESENTATION = \"natural\"\n",
    "SYNTHETIC_DATASET_FEATURES = [\n",
    "    {\n",
    "        \"type\": \"gaussian\",\n",
    "        \"scale_x_min\": 0.5,\n",
    "        \"scale_x_max\": 1.5,\n",
    "        \"scale_y_min\": 0.5,\n",
    "        \"scale_y_max\": 1.5,\n",
    "        \"amplitude_min\": 0.5,\n",
    "        \"amplitude_max\": 1.5\n",
    "    }\n",
    "]\n",
    "LATENT_X_DIMS = 7\n",
    "LATENT_Y_DIMS = 7\n",
    "ZERO_PADDING_SIZE = LATENT_X_DIMS * LATENT_Y_DIMS\n",
    "NOISE_STD = 0.05\n",
    "WAVEFORM_TIMESTEPS=33"
   ]
  },
  {
   "cell_type": "code",
   "execution_count": null,
   "metadata": {},
   "outputs": [],
   "source": [
    "# Create the model to train.\n",
    "model = create_model(dims=2,\n",
    "                     zero_padding_size=ZERO_PADDING_SIZE,\n",
    "                     use_zero_padding=True,\n",
    "                     n_x_size=LATENT_X_DIMS,\n",
    "                     n_y_size=LATENT_Y_DIMS)"
   ]
  },
  {
   "cell_type": "code",
   "execution_count": null,
   "metadata": {},
   "outputs": [],
   "source": [
    "# Creating a data generator. You may plug your own data generator here. \n",
    "dg = make_data_generator(dims=2,\n",
    "                         batch_size=BATCH_SIZE,\n",
    "                         features=SYNTHETIC_DATASET_FEATURES,\n",
    "                         latent_x_dims=LATENT_X_DIMS,\n",
    "                         latent_y_dims=LATENT_Y_DIMS,\n",
    "                         output_representation=OUTPUT_REPRESENTATION)"
   ]
  },
  {
   "cell_type": "code",
   "execution_count": null,
   "metadata": {},
   "outputs": [],
   "source": [
    "# Train model.\n",
    "train(\n",
    "    model,\n",
    "    data_generator=dg,\n",
    "    saving_dir=MODEL_SAVING_DIR,\n",
    "    epochs=NUM_TRAINING_EPOCHS\n",
    ")"
   ]
  },
  {
   "cell_type": "code",
   "execution_count": null,
   "metadata": {},
   "outputs": [],
   "source": []
  }
 ],
 "metadata": {
  "kernelspec": {
   "display_name": "Python 3",
   "language": "python",
   "name": "python3"
  },
  "language_info": {
   "codemirror_mode": {
    "name": "ipython",
    "version": 3
   },
   "file_extension": ".py",
   "mimetype": "text/x-python",
   "name": "python",
   "nbconvert_exporter": "python",
   "pygments_lexer": "ipython3",
   "version": "3.10.0"
  }
 },
 "nbformat": 4,
 "nbformat_minor": 2
}
